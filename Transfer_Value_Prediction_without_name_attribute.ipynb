{
 "cells": [
  {
   "cell_type": "code",
   "execution_count": 10,
   "metadata": {},
   "outputs": [],
   "source": [
    "import numpy as np\n",
    "from sklearn import preprocessing, cross_validation, neighbors\n",
    "import pandas as pd\n",
    "from sklearn.tree import DecisionTreeClassifier\n",
    "from sklearn.ensemble import RandomForestClassifier\n",
    "from sklearn.metrics import confusion_matrix\n",
    "from sklearn.metrics import precision_score\n",
    "from sklearn.metrics import recall_score\n",
    "from sklearn.metrics import f1_score"
   ]
  },
  {
   "cell_type": "code",
   "execution_count": 11,
   "metadata": {
    "collapsed": true
   },
   "outputs": [],
   "source": [
    "df = pd.read_csv('epldata_final.csv')"
   ]
  },
  {
   "cell_type": "code",
   "execution_count": 12,
   "metadata": {},
   "outputs": [
    {
     "data": {
      "text/html": [
       "<div>\n",
       "<style>\n",
       "    .dataframe thead tr:only-child th {\n",
       "        text-align: right;\n",
       "    }\n",
       "\n",
       "    .dataframe thead th {\n",
       "        text-align: left;\n",
       "    }\n",
       "\n",
       "    .dataframe tbody tr th {\n",
       "        vertical-align: top;\n",
       "    }\n",
       "</style>\n",
       "<table border=\"1\" class=\"dataframe\">\n",
       "  <thead>\n",
       "    <tr style=\"text-align: right;\">\n",
       "      <th></th>\n",
       "      <th>name</th>\n",
       "      <th>club</th>\n",
       "      <th>age</th>\n",
       "      <th>position</th>\n",
       "      <th>position_cat</th>\n",
       "      <th>market_value</th>\n",
       "      <th>page_views</th>\n",
       "      <th>fpl_value</th>\n",
       "      <th>fpl_sel</th>\n",
       "      <th>fpl_points</th>\n",
       "      <th>region</th>\n",
       "      <th>nationality</th>\n",
       "      <th>new_foreign</th>\n",
       "      <th>age_cat</th>\n",
       "      <th>club_id</th>\n",
       "      <th>big_club</th>\n",
       "      <th>new_signing</th>\n",
       "    </tr>\n",
       "  </thead>\n",
       "  <tbody>\n",
       "    <tr>\n",
       "      <th>0</th>\n",
       "      <td>Alexis_Sanchez</td>\n",
       "      <td>Arsenal</td>\n",
       "      <td>28</td>\n",
       "      <td>LW</td>\n",
       "      <td>1</td>\n",
       "      <td>65.0</td>\n",
       "      <td>4329</td>\n",
       "      <td>12.0</td>\n",
       "      <td>17.1</td>\n",
       "      <td>264</td>\n",
       "      <td>3</td>\n",
       "      <td>Chile</td>\n",
       "      <td>0</td>\n",
       "      <td>4</td>\n",
       "      <td>1</td>\n",
       "      <td>1</td>\n",
       "      <td>0</td>\n",
       "    </tr>\n",
       "    <tr>\n",
       "      <th>1</th>\n",
       "      <td>Mesut_Ozil</td>\n",
       "      <td>Arsenal</td>\n",
       "      <td>28</td>\n",
       "      <td>AM</td>\n",
       "      <td>1</td>\n",
       "      <td>50.0</td>\n",
       "      <td>4395</td>\n",
       "      <td>9.5</td>\n",
       "      <td>5.6</td>\n",
       "      <td>167</td>\n",
       "      <td>2</td>\n",
       "      <td>Germany</td>\n",
       "      <td>0</td>\n",
       "      <td>4</td>\n",
       "      <td>1</td>\n",
       "      <td>1</td>\n",
       "      <td>0</td>\n",
       "    </tr>\n",
       "    <tr>\n",
       "      <th>2</th>\n",
       "      <td>Petr_Cech</td>\n",
       "      <td>Arsenal</td>\n",
       "      <td>35</td>\n",
       "      <td>GK</td>\n",
       "      <td>4</td>\n",
       "      <td>7.0</td>\n",
       "      <td>1529</td>\n",
       "      <td>5.5</td>\n",
       "      <td>5.9</td>\n",
       "      <td>134</td>\n",
       "      <td>2</td>\n",
       "      <td>Czech_Republic</td>\n",
       "      <td>0</td>\n",
       "      <td>6</td>\n",
       "      <td>1</td>\n",
       "      <td>1</td>\n",
       "      <td>0</td>\n",
       "    </tr>\n",
       "    <tr>\n",
       "      <th>3</th>\n",
       "      <td>Theo_Walcott</td>\n",
       "      <td>Arsenal</td>\n",
       "      <td>28</td>\n",
       "      <td>RW</td>\n",
       "      <td>1</td>\n",
       "      <td>20.0</td>\n",
       "      <td>2393</td>\n",
       "      <td>7.5</td>\n",
       "      <td>1.5</td>\n",
       "      <td>122</td>\n",
       "      <td>1</td>\n",
       "      <td>England</td>\n",
       "      <td>0</td>\n",
       "      <td>4</td>\n",
       "      <td>1</td>\n",
       "      <td>1</td>\n",
       "      <td>0</td>\n",
       "    </tr>\n",
       "    <tr>\n",
       "      <th>4</th>\n",
       "      <td>Laurent_Koscielny</td>\n",
       "      <td>Arsenal</td>\n",
       "      <td>31</td>\n",
       "      <td>CB</td>\n",
       "      <td>3</td>\n",
       "      <td>22.0</td>\n",
       "      <td>912</td>\n",
       "      <td>6.0</td>\n",
       "      <td>0.7</td>\n",
       "      <td>121</td>\n",
       "      <td>2</td>\n",
       "      <td>France</td>\n",
       "      <td>0</td>\n",
       "      <td>4</td>\n",
       "      <td>1</td>\n",
       "      <td>1</td>\n",
       "      <td>0</td>\n",
       "    </tr>\n",
       "  </tbody>\n",
       "</table>\n",
       "</div>"
      ],
      "text/plain": [
       "                name     club  age position  position_cat  market_value  \\\n",
       "0     Alexis_Sanchez  Arsenal   28       LW             1          65.0   \n",
       "1         Mesut_Ozil  Arsenal   28       AM             1          50.0   \n",
       "2          Petr_Cech  Arsenal   35       GK             4           7.0   \n",
       "3       Theo_Walcott  Arsenal   28       RW             1          20.0   \n",
       "4  Laurent_Koscielny  Arsenal   31       CB             3          22.0   \n",
       "\n",
       "   page_views  fpl_value  fpl_sel  fpl_points  region     nationality  \\\n",
       "0        4329       12.0     17.1         264       3           Chile   \n",
       "1        4395        9.5      5.6         167       2         Germany   \n",
       "2        1529        5.5      5.9         134       2  Czech_Republic   \n",
       "3        2393        7.5      1.5         122       1         England   \n",
       "4         912        6.0      0.7         121       2          France   \n",
       "\n",
       "   new_foreign  age_cat  club_id  big_club  new_signing  \n",
       "0            0        4        1         1            0  \n",
       "1            0        4        1         1            0  \n",
       "2            0        6        1         1            0  \n",
       "3            0        4        1         1            0  \n",
       "4            0        4        1         1            0  "
      ]
     },
     "execution_count": 12,
     "metadata": {},
     "output_type": "execute_result"
    }
   ],
   "source": [
    "df.head()"
   ]
  },
  {
   "cell_type": "code",
   "execution_count": 13,
   "metadata": {
    "collapsed": true
   },
   "outputs": [],
   "source": [
    "df2 = df"
   ]
  },
  {
   "cell_type": "code",
   "execution_count": 14,
   "metadata": {
    "collapsed": true
   },
   "outputs": [],
   "source": [
    "df2.loc[(df2.market_value < 10), 'market_value'] = 1\n",
    "df2.loc[(df2.market_value >= 10)&(df2.market_value < 20), 'market_value'] = 2\n",
    "df2.loc[(df2.market_value >= 20)&(df2.market_value < 30), 'market_value'] = 3\n",
    "df2.loc[(df2.market_value >= 30)&(df2.market_value < 40), 'market_value'] = 4\n",
    "df2.loc[(df2.market_value >= 40)&(df2.market_value < 50), 'market_value'] = 5\n",
    "df2.loc[(df2.market_value >= 50), 'market_value'] = 6"
   ]
  },
  {
   "cell_type": "code",
   "execution_count": 15,
   "metadata": {
    "collapsed": true
   },
   "outputs": [],
   "source": [
    "df2.drop(['name'], 1, inplace=True)\n",
    "df2.drop(['club_id'], 1, inplace=True)"
   ]
  },
  {
   "cell_type": "code",
   "execution_count": 16,
   "metadata": {
    "collapsed": true
   },
   "outputs": [],
   "source": [
    "df3 =pd.get_dummies(df2, prefix=['club', 'position', 'nationality'], columns=['club', 'position', 'nationality'])"
   ]
  },
  {
   "cell_type": "code",
   "execution_count": 17,
   "metadata": {},
   "outputs": [
    {
     "data": {
      "text/html": [
       "<div>\n",
       "<style>\n",
       "    .dataframe thead tr:only-child th {\n",
       "        text-align: right;\n",
       "    }\n",
       "\n",
       "    .dataframe thead th {\n",
       "        text-align: left;\n",
       "    }\n",
       "\n",
       "    .dataframe tbody tr th {\n",
       "        vertical-align: top;\n",
       "    }\n",
       "</style>\n",
       "<table border=\"1\" class=\"dataframe\">\n",
       "  <thead>\n",
       "    <tr style=\"text-align: right;\">\n",
       "      <th></th>\n",
       "      <th>age</th>\n",
       "      <th>position_cat</th>\n",
       "      <th>market_value</th>\n",
       "      <th>page_views</th>\n",
       "      <th>fpl_value</th>\n",
       "      <th>fpl_sel</th>\n",
       "      <th>fpl_points</th>\n",
       "      <th>region</th>\n",
       "      <th>new_foreign</th>\n",
       "      <th>age_cat</th>\n",
       "      <th>...</th>\n",
       "      <th>nationality_Spain</th>\n",
       "      <th>nationality_Sweden</th>\n",
       "      <th>nationality_Switzerland</th>\n",
       "      <th>nationality_The_Gambia</th>\n",
       "      <th>nationality_Trinidad_and_Tobago</th>\n",
       "      <th>nationality_Tunisia</th>\n",
       "      <th>nationality_United_States</th>\n",
       "      <th>nationality_Uruguay</th>\n",
       "      <th>nationality_Venezuela</th>\n",
       "      <th>nationality_Wales</th>\n",
       "    </tr>\n",
       "  </thead>\n",
       "  <tbody>\n",
       "    <tr>\n",
       "      <th>0</th>\n",
       "      <td>28</td>\n",
       "      <td>1</td>\n",
       "      <td>6.0</td>\n",
       "      <td>4329</td>\n",
       "      <td>12.0</td>\n",
       "      <td>17.1</td>\n",
       "      <td>264</td>\n",
       "      <td>3</td>\n",
       "      <td>0</td>\n",
       "      <td>4</td>\n",
       "      <td>...</td>\n",
       "      <td>0</td>\n",
       "      <td>0</td>\n",
       "      <td>0</td>\n",
       "      <td>0</td>\n",
       "      <td>0</td>\n",
       "      <td>0</td>\n",
       "      <td>0</td>\n",
       "      <td>0</td>\n",
       "      <td>0</td>\n",
       "      <td>0</td>\n",
       "    </tr>\n",
       "    <tr>\n",
       "      <th>1</th>\n",
       "      <td>28</td>\n",
       "      <td>1</td>\n",
       "      <td>6.0</td>\n",
       "      <td>4395</td>\n",
       "      <td>9.5</td>\n",
       "      <td>5.6</td>\n",
       "      <td>167</td>\n",
       "      <td>2</td>\n",
       "      <td>0</td>\n",
       "      <td>4</td>\n",
       "      <td>...</td>\n",
       "      <td>0</td>\n",
       "      <td>0</td>\n",
       "      <td>0</td>\n",
       "      <td>0</td>\n",
       "      <td>0</td>\n",
       "      <td>0</td>\n",
       "      <td>0</td>\n",
       "      <td>0</td>\n",
       "      <td>0</td>\n",
       "      <td>0</td>\n",
       "    </tr>\n",
       "    <tr>\n",
       "      <th>2</th>\n",
       "      <td>35</td>\n",
       "      <td>4</td>\n",
       "      <td>1.0</td>\n",
       "      <td>1529</td>\n",
       "      <td>5.5</td>\n",
       "      <td>5.9</td>\n",
       "      <td>134</td>\n",
       "      <td>2</td>\n",
       "      <td>0</td>\n",
       "      <td>6</td>\n",
       "      <td>...</td>\n",
       "      <td>0</td>\n",
       "      <td>0</td>\n",
       "      <td>0</td>\n",
       "      <td>0</td>\n",
       "      <td>0</td>\n",
       "      <td>0</td>\n",
       "      <td>0</td>\n",
       "      <td>0</td>\n",
       "      <td>0</td>\n",
       "      <td>0</td>\n",
       "    </tr>\n",
       "    <tr>\n",
       "      <th>3</th>\n",
       "      <td>28</td>\n",
       "      <td>1</td>\n",
       "      <td>3.0</td>\n",
       "      <td>2393</td>\n",
       "      <td>7.5</td>\n",
       "      <td>1.5</td>\n",
       "      <td>122</td>\n",
       "      <td>1</td>\n",
       "      <td>0</td>\n",
       "      <td>4</td>\n",
       "      <td>...</td>\n",
       "      <td>0</td>\n",
       "      <td>0</td>\n",
       "      <td>0</td>\n",
       "      <td>0</td>\n",
       "      <td>0</td>\n",
       "      <td>0</td>\n",
       "      <td>0</td>\n",
       "      <td>0</td>\n",
       "      <td>0</td>\n",
       "      <td>0</td>\n",
       "    </tr>\n",
       "    <tr>\n",
       "      <th>4</th>\n",
       "      <td>31</td>\n",
       "      <td>3</td>\n",
       "      <td>3.0</td>\n",
       "      <td>912</td>\n",
       "      <td>6.0</td>\n",
       "      <td>0.7</td>\n",
       "      <td>121</td>\n",
       "      <td>2</td>\n",
       "      <td>0</td>\n",
       "      <td>4</td>\n",
       "      <td>...</td>\n",
       "      <td>0</td>\n",
       "      <td>0</td>\n",
       "      <td>0</td>\n",
       "      <td>0</td>\n",
       "      <td>0</td>\n",
       "      <td>0</td>\n",
       "      <td>0</td>\n",
       "      <td>0</td>\n",
       "      <td>0</td>\n",
       "      <td>0</td>\n",
       "    </tr>\n",
       "  </tbody>\n",
       "</table>\n",
       "<p>5 rows × 106 columns</p>\n",
       "</div>"
      ],
      "text/plain": [
       "   age  position_cat  market_value  page_views  fpl_value  fpl_sel  \\\n",
       "0   28             1           6.0        4329       12.0     17.1   \n",
       "1   28             1           6.0        4395        9.5      5.6   \n",
       "2   35             4           1.0        1529        5.5      5.9   \n",
       "3   28             1           3.0        2393        7.5      1.5   \n",
       "4   31             3           3.0         912        6.0      0.7   \n",
       "\n",
       "   fpl_points  region  new_foreign  age_cat        ...          \\\n",
       "0         264       3            0        4        ...           \n",
       "1         167       2            0        4        ...           \n",
       "2         134       2            0        6        ...           \n",
       "3         122       1            0        4        ...           \n",
       "4         121       2            0        4        ...           \n",
       "\n",
       "   nationality_Spain  nationality_Sweden  nationality_Switzerland  \\\n",
       "0                  0                   0                        0   \n",
       "1                  0                   0                        0   \n",
       "2                  0                   0                        0   \n",
       "3                  0                   0                        0   \n",
       "4                  0                   0                        0   \n",
       "\n",
       "   nationality_The_Gambia  nationality_Trinidad_and_Tobago  \\\n",
       "0                       0                                0   \n",
       "1                       0                                0   \n",
       "2                       0                                0   \n",
       "3                       0                                0   \n",
       "4                       0                                0   \n",
       "\n",
       "   nationality_Tunisia  nationality_United_States  nationality_Uruguay  \\\n",
       "0                    0                          0                    0   \n",
       "1                    0                          0                    0   \n",
       "2                    0                          0                    0   \n",
       "3                    0                          0                    0   \n",
       "4                    0                          0                    0   \n",
       "\n",
       "   nationality_Venezuela  nationality_Wales  \n",
       "0                      0                  0  \n",
       "1                      0                  0  \n",
       "2                      0                  0  \n",
       "3                      0                  0  \n",
       "4                      0                  0  \n",
       "\n",
       "[5 rows x 106 columns]"
      ]
     },
     "execution_count": 17,
     "metadata": {},
     "output_type": "execute_result"
    }
   ],
   "source": [
    "df3.head()"
   ]
  },
  {
   "cell_type": "code",
   "execution_count": 18,
   "metadata": {},
   "outputs": [
    {
     "data": {
      "text/plain": [
       "['age',\n",
       " 'position_cat',\n",
       " 'market_value',\n",
       " 'page_views',\n",
       " 'fpl_value',\n",
       " 'fpl_sel',\n",
       " 'fpl_points',\n",
       " 'region',\n",
       " 'new_foreign',\n",
       " 'age_cat',\n",
       " 'big_club',\n",
       " 'new_signing',\n",
       " 'club_Arsenal',\n",
       " 'club_Bournemouth',\n",
       " 'club_Brighton+and+Hove',\n",
       " 'club_Burnley',\n",
       " 'club_Chelsea',\n",
       " 'club_Crystal+Palace',\n",
       " 'club_Everton',\n",
       " 'club_Huddersfield',\n",
       " 'club_Leicester+City',\n",
       " 'club_Liverpool',\n",
       " 'club_Manchester+City',\n",
       " 'club_Manchester+United',\n",
       " 'club_Newcastle+United',\n",
       " 'club_Southampton',\n",
       " 'club_Stoke+City',\n",
       " 'club_Swansea',\n",
       " 'club_Tottenham',\n",
       " 'club_Watford',\n",
       " 'club_West+Brom',\n",
       " 'club_West+Ham',\n",
       " 'position_AM',\n",
       " 'position_CB',\n",
       " 'position_CF',\n",
       " 'position_CM',\n",
       " 'position_DM',\n",
       " 'position_GK',\n",
       " 'position_LB',\n",
       " 'position_LM',\n",
       " 'position_LW',\n",
       " 'position_RB',\n",
       " 'position_RM',\n",
       " 'position_RW',\n",
       " 'position_SS',\n",
       " 'nationality_Algeria',\n",
       " 'nationality_Argentina',\n",
       " 'nationality_Armenia',\n",
       " 'nationality_Australia',\n",
       " 'nationality_Austria',\n",
       " 'nationality_Belgium',\n",
       " 'nationality_Benin',\n",
       " 'nationality_Bermuda',\n",
       " 'nationality_Bosnia',\n",
       " 'nationality_Brazil',\n",
       " 'nationality_Cameroon',\n",
       " 'nationality_Canada',\n",
       " 'nationality_Chile',\n",
       " 'nationality_Colombia',\n",
       " 'nationality_Congo_DR',\n",
       " 'nationality_Cote_dIvoire',\n",
       " 'nationality_Croatia',\n",
       " 'nationality_Curacao',\n",
       " 'nationality_Czech_Republic',\n",
       " 'nationality_Denmark',\n",
       " 'nationality_Ecuador',\n",
       " 'nationality_Egypt',\n",
       " 'nationality_England',\n",
       " 'nationality_Estonia',\n",
       " 'nationality_Finland',\n",
       " 'nationality_France',\n",
       " 'nationality_Germany',\n",
       " 'nationality_Ghana',\n",
       " 'nationality_Greece',\n",
       " 'nationality_Iceland',\n",
       " 'nationality_Ireland',\n",
       " 'nationality_Israel',\n",
       " 'nationality_Italy',\n",
       " 'nationality_Jamaica',\n",
       " 'nationality_Japan',\n",
       " 'nationality_Kenya',\n",
       " 'nationality_Mali',\n",
       " 'nationality_Morocco',\n",
       " 'nationality_Netherlands',\n",
       " 'nationality_New_Zealand',\n",
       " 'nationality_Nigeria',\n",
       " 'nationality_Northern_Ireland',\n",
       " 'nationality_Norway',\n",
       " 'nationality_Poland',\n",
       " 'nationality_Portugal',\n",
       " 'nationality_Romania',\n",
       " 'nationality_Scotland',\n",
       " 'nationality_Senegal',\n",
       " 'nationality_Serbia',\n",
       " 'nationality_Slovenia',\n",
       " 'nationality_South_Korea',\n",
       " 'nationality_Spain',\n",
       " 'nationality_Sweden',\n",
       " 'nationality_Switzerland',\n",
       " 'nationality_The_Gambia',\n",
       " 'nationality_Trinidad_and_Tobago',\n",
       " 'nationality_Tunisia',\n",
       " 'nationality_United_States',\n",
       " 'nationality_Uruguay',\n",
       " 'nationality_Venezuela',\n",
       " 'nationality_Wales']"
      ]
     },
     "execution_count": 18,
     "metadata": {},
     "output_type": "execute_result"
    }
   ],
   "source": [
    "list(df3)"
   ]
  },
  {
   "cell_type": "code",
   "execution_count": 19,
   "metadata": {
    "collapsed": true
   },
   "outputs": [],
   "source": [
    "X = np.array(df3.drop(['market_value'], 1))\n",
    "y = np.array(df3['market_value'])"
   ]
  },
  {
   "cell_type": "code",
   "execution_count": 20,
   "metadata": {
    "collapsed": true
   },
   "outputs": [],
   "source": [
    "X_train, X_test, y_train, y_test = cross_validation.train_test_split(X, y, test_size=0.2)"
   ]
  },
  {
   "cell_type": "code",
   "execution_count": 21,
   "metadata": {},
   "outputs": [],
   "source": [
    "clf = neighbors.KNeighborsClassifier()"
   ]
  },
  {
   "cell_type": "code",
   "execution_count": 22,
   "metadata": {},
   "outputs": [
    {
     "data": {
      "text/plain": [
       "KNeighborsClassifier(algorithm='auto', leaf_size=30, metric='minkowski',\n",
       "           metric_params=None, n_jobs=1, n_neighbors=5, p=2,\n",
       "           weights='uniform')"
      ]
     },
     "execution_count": 22,
     "metadata": {},
     "output_type": "execute_result"
    }
   ],
   "source": [
    "clf.fit(X_train, y_train)"
   ]
  },
  {
   "cell_type": "code",
   "execution_count": 23,
   "metadata": {},
   "outputs": [
    {
     "name": "stdout",
     "output_type": "stream",
     "text": [
      "Accuracy With 5 neighbors:  0.619565217391\n"
     ]
    }
   ],
   "source": [
    "accuracy = clf.score(X_test, y_test)\n",
    "print(\"Accuracy With 5 neighbors: \", accuracy)"
   ]
  },
  {
   "cell_type": "code",
   "execution_count": 24,
   "metadata": {},
   "outputs": [
    {
     "data": {
      "text/plain": [
       "KNeighborsClassifier(algorithm='auto', leaf_size=30, metric='minkowski',\n",
       "           metric_params=None, n_jobs=1, n_neighbors=3, p=2,\n",
       "           weights='uniform')"
      ]
     },
     "execution_count": 24,
     "metadata": {},
     "output_type": "execute_result"
    }
   ],
   "source": [
    "clf2 = neighbors.KNeighborsClassifier(n_neighbors=3)\n",
    "clf2.fit(X_train, y_train)"
   ]
  },
  {
   "cell_type": "code",
   "execution_count": 25,
   "metadata": {},
   "outputs": [
    {
     "name": "stdout",
     "output_type": "stream",
     "text": [
      "Accuracy with 3 neighbors:  0.641304347826\n"
     ]
    }
   ],
   "source": [
    "accuracy2 = clf2.score(X_test, y_test)\n",
    "print(\"Accuracy with 3 neighbors: \", accuracy2)"
   ]
  },
  {
   "cell_type": "code",
   "execution_count": 26,
   "metadata": {
    "collapsed": true
   },
   "outputs": [],
   "source": [
    "tree = DecisionTreeClassifier(max_depth = 4, random_state=0)"
   ]
  },
  {
   "cell_type": "code",
   "execution_count": 27,
   "metadata": {},
   "outputs": [
    {
     "data": {
      "text/plain": [
       "DecisionTreeClassifier(class_weight=None, criterion='gini', max_depth=4,\n",
       "            max_features=None, max_leaf_nodes=None,\n",
       "            min_impurity_decrease=0.0, min_impurity_split=None,\n",
       "            min_samples_leaf=1, min_samples_split=2,\n",
       "            min_weight_fraction_leaf=0.0, presort=False, random_state=0,\n",
       "            splitter='best')"
      ]
     },
     "execution_count": 27,
     "metadata": {},
     "output_type": "execute_result"
    }
   ],
   "source": [
    "tree.fit(X_train,y_train)"
   ]
  },
  {
   "cell_type": "code",
   "execution_count": 28,
   "metadata": {},
   "outputs": [
    {
     "name": "stdout",
     "output_type": "stream",
     "text": [
      "Decision Tree Accuracy:  0.695652173913\n"
     ]
    }
   ],
   "source": [
    "accuracy3 = tree.score(X_test,y_test)\n",
    "print(\"Decision Tree Accuracy: \", accuracy3)"
   ]
  },
  {
   "cell_type": "code",
   "execution_count": 29,
   "metadata": {
    "collapsed": true
   },
   "outputs": [],
   "source": [
    "forest = RandomForestClassifier(n_estimators=100, random_state=0)"
   ]
  },
  {
   "cell_type": "code",
   "execution_count": 30,
   "metadata": {},
   "outputs": [
    {
     "data": {
      "text/plain": [
       "RandomForestClassifier(bootstrap=True, class_weight=None, criterion='gini',\n",
       "            max_depth=None, max_features='auto', max_leaf_nodes=None,\n",
       "            min_impurity_decrease=0.0, min_impurity_split=None,\n",
       "            min_samples_leaf=1, min_samples_split=2,\n",
       "            min_weight_fraction_leaf=0.0, n_estimators=100, n_jobs=1,\n",
       "            oob_score=False, random_state=0, verbose=0, warm_start=False)"
      ]
     },
     "execution_count": 30,
     "metadata": {},
     "output_type": "execute_result"
    }
   ],
   "source": [
    "forest.fit(X_train,y_train)"
   ]
  },
  {
   "cell_type": "code",
   "execution_count": 31,
   "metadata": {},
   "outputs": [
    {
     "name": "stdout",
     "output_type": "stream",
     "text": [
      "Random Forest Accuracy:  0.695652173913\n"
     ]
    }
   ],
   "source": [
    "accuracy4 = forest.score(X_test,y_test)\n",
    "print(\"Random Forest Accuracy: \", accuracy4)"
   ]
  },
  {
   "cell_type": "code",
   "execution_count": 32,
   "metadata": {},
   "outputs": [
    {
     "name": "stderr",
     "output_type": "stream",
     "text": [
      "E:\\Anaconda\\lib\\site-packages\\sklearn\\metrics\\classification.py:1135: UndefinedMetricWarning: Precision is ill-defined and being set to 0.0 in labels with no predicted samples.\n",
      "  'precision', 'predicted', average, warn_for)\n",
      "E:\\Anaconda\\lib\\site-packages\\sklearn\\metrics\\classification.py:1135: UndefinedMetricWarning: F-score is ill-defined and being set to 0.0 in labels with no predicted samples.\n",
      "  'precision', 'predicted', average, warn_for)\n"
     ]
    }
   ],
   "source": [
    "a = clf.predict(X_test);\n",
    "prec_knn_5 = precision_score(y_test, a, average='weighted')  \n",
    "recall_knn_5 = recall_score(y_test, a, average='weighted')  \n",
    "f1_knn_5 = f1_score(y_test, a, average='weighted')"
   ]
  },
  {
   "cell_type": "code",
   "execution_count": 33,
   "metadata": {},
   "outputs": [
    {
     "name": "stdout",
     "output_type": "stream",
     "text": [
      "KNN Results with 5 neighbor:\n",
      "\n",
      "Precision:  0.629634495939 \n",
      "\n",
      "Recall:  0.619565217391 \n",
      "\n",
      "F1 Score:  0.616604604966 \n",
      "\n"
     ]
    }
   ],
   "source": [
    "print(\"KNN Results with 5 neighbor:\\n\")\n",
    "print(\"Precision: \", prec_knn_5, \"\\n\")\n",
    "print(\"Recall: \", recall_knn_5, \"\\n\")\n",
    "print(\"F1 Score: \", f1_knn_5, \"\\n\")"
   ]
  },
  {
   "cell_type": "code",
   "execution_count": 34,
   "metadata": {},
   "outputs": [
    {
     "name": "stderr",
     "output_type": "stream",
     "text": [
      "E:\\Anaconda\\lib\\site-packages\\sklearn\\metrics\\classification.py:1135: UndefinedMetricWarning: Precision is ill-defined and being set to 0.0 in labels with no predicted samples.\n",
      "  'precision', 'predicted', average, warn_for)\n",
      "E:\\Anaconda\\lib\\site-packages\\sklearn\\metrics\\classification.py:1135: UndefinedMetricWarning: F-score is ill-defined and being set to 0.0 in labels with no predicted samples.\n",
      "  'precision', 'predicted', average, warn_for)\n"
     ]
    }
   ],
   "source": [
    "d = clf2.predict(X_test);\n",
    "prec_knn_3 = precision_score(y_test, d, average='weighted')  \n",
    "recall_knn_3 = recall_score(y_test, d, average='weighted')  \n",
    "f1_knn_3 = f1_score(y_test, d, average='weighted')"
   ]
  },
  {
   "cell_type": "code",
   "execution_count": 35,
   "metadata": {},
   "outputs": [
    {
     "name": "stdout",
     "output_type": "stream",
     "text": [
      "KNN Results with 3 neighbor:\n",
      "\n",
      "Precision:  0.637272668014 \n",
      "\n",
      "Recall:  0.641304347826 \n",
      "\n",
      "F1 Score:  0.628856838732 \n",
      "\n"
     ]
    }
   ],
   "source": [
    "print(\"KNN Results with 3 neighbor:\\n\")\n",
    "print(\"Precision: \", prec_knn_3, \"\\n\")\n",
    "print(\"Recall: \", recall_knn_3, \"\\n\")\n",
    "print(\"F1 Score: \", f1_knn_3, \"\\n\")"
   ]
  },
  {
   "cell_type": "code",
   "execution_count": 36,
   "metadata": {},
   "outputs": [
    {
     "name": "stderr",
     "output_type": "stream",
     "text": [
      "E:\\Anaconda\\lib\\site-packages\\sklearn\\metrics\\classification.py:1135: UndefinedMetricWarning: Precision is ill-defined and being set to 0.0 in labels with no predicted samples.\n",
      "  'precision', 'predicted', average, warn_for)\n",
      "E:\\Anaconda\\lib\\site-packages\\sklearn\\metrics\\classification.py:1135: UndefinedMetricWarning: F-score is ill-defined and being set to 0.0 in labels with no predicted samples.\n",
      "  'precision', 'predicted', average, warn_for)\n"
     ]
    }
   ],
   "source": [
    "b= forest.predict(X_test);\n",
    "prec_randomForest = precision_score(y_test, b, average='weighted')\n",
    "recall_randomForest = recall_score(y_test, b, average='weighted')\n",
    "f1_randomForest = f1_score(y_test, b, average='weighted')"
   ]
  },
  {
   "cell_type": "code",
   "execution_count": 37,
   "metadata": {},
   "outputs": [
    {
     "name": "stdout",
     "output_type": "stream",
     "text": [
      "Random Forest Results:\n",
      "\n",
      "Precision:  0.639060308555 \n",
      "\n",
      "Recall:  0.695652173913 \n",
      "\n",
      "F1 Score:  0.662122832027 \n",
      "\n"
     ]
    }
   ],
   "source": [
    "print(\"Random Forest Results:\\n\")\n",
    "print(\"Precision: \", prec_randomForest, \"\\n\")\n",
    "print(\"Recall: \", recall_randomForest, \"\\n\")\n",
    "print(\"F1 Score: \", f1_randomForest, \"\\n\")"
   ]
  },
  {
   "cell_type": "code",
   "execution_count": 38,
   "metadata": {},
   "outputs": [
    {
     "name": "stderr",
     "output_type": "stream",
     "text": [
      "E:\\Anaconda\\lib\\site-packages\\sklearn\\metrics\\classification.py:1135: UndefinedMetricWarning: Precision is ill-defined and being set to 0.0 in labels with no predicted samples.\n",
      "  'precision', 'predicted', average, warn_for)\n",
      "E:\\Anaconda\\lib\\site-packages\\sklearn\\metrics\\classification.py:1135: UndefinedMetricWarning: F-score is ill-defined and being set to 0.0 in labels with no predicted samples.\n",
      "  'precision', 'predicted', average, warn_for)\n"
     ]
    }
   ],
   "source": [
    "c = tree.predict(X_test)\n",
    "prec_tree = precision_score(y_test, c, average='weighted')\n",
    "recall_tree = recall_score(y_test, c, average='weighted')\n",
    "f1_tree = f1_score(y_test, c, average='weighted')"
   ]
  },
  {
   "cell_type": "code",
   "execution_count": 39,
   "metadata": {},
   "outputs": [
    {
     "name": "stdout",
     "output_type": "stream",
     "text": [
      "Decision Tree Results:\n",
      "\n",
      "Precision:  0.675160370634 \n",
      "\n",
      "Recall:  0.695652173913 \n",
      "\n",
      "F1 Score:  0.667975206612 \n",
      "\n"
     ]
    }
   ],
   "source": [
    "print(\"Decision Tree Results:\\n\")\n",
    "print(\"Precision: \", prec_tree, \"\\n\")\n",
    "print(\"Recall: \", recall_tree, \"\\n\")\n",
    "print(\"F1 Score: \", f1_tree, \"\\n\")"
   ]
  }
 ],
 "metadata": {
  "kernelspec": {
   "display_name": "Python 3",
   "language": "python",
   "name": "python3"
  },
  "language_info": {
   "codemirror_mode": {
    "name": "ipython",
    "version": 3
   },
   "file_extension": ".py",
   "mimetype": "text/x-python",
   "name": "python",
   "nbconvert_exporter": "python",
   "pygments_lexer": "ipython3",
   "version": "3.6.3"
  }
 },
 "nbformat": 4,
 "nbformat_minor": 2
}
